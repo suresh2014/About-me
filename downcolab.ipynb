{
  "nbformat": 4,
  "nbformat_minor": 0,
  "metadata": {
    "colab": {
      "provenance": [],
      "include_colab_link": true
    },
    "kernelspec": {
      "name": "python3",
      "display_name": "Python 3"
    },
    "language_info": {
      "name": "python"
    }
  },
  "cells": [
    {
      "cell_type": "markdown",
      "metadata": {
        "id": "view-in-github",
        "colab_type": "text"
      },
      "source": [
        "<a href=\"https://colab.research.google.com/github/suresh2014/usefull_links/blob/main/downcolab.ipynb\" target=\"_parent\"><img src=\"https://colab.research.google.com/assets/colab-badge.svg\" alt=\"Open In Colab\"/></a>"
      ]
    },
    {
      "cell_type": "code",
      "execution_count": null,
      "metadata": {
        "id": "8-wJLf34nKRa"
      },
      "outputs": [],
      "source": [
        "#General code concepts and resources\n"
      ]
    },
    {
      "cell_type": "markdown",
      "source": [],
      "metadata": {
        "id": "lWYfQ_1xnLq_"
      }
    },
    {
      "cell_type": "code",
      "source": [
        "https://pola-rs.github.io/polars-book/user-guide/coming_from_pandas.html  ...try\n",
        "https://github.com/patbaa/AMR_ciprofloxacin  ,amr mteatadata  ml models\n",
        "https://zenodo.org/record/6617143#.Y9o1lNJBxkg  ..salmonella see metadata. ... https://github.com/phac-nml/plasmid_analysis"
      ],
      "metadata": {
        "id": "nn41G3cHqib8"
      },
      "execution_count": null,
      "outputs": []
    },
    {
      "cell_type": "markdown",
      "source": [
        "###DATE:Jan28-2023###\n",
        "Python style concepts : https://peps.python.org/pep-0008/#programming-recommendations\n",
        "\n",
        "https://github.com/ahmedbahaaeldin/From-0-to-Research-Scientist-resources-guide\n",
        "\n",
        "https://github.com/sorrell/etlyte\n",
        "\n",
        "https://github.com/phac-nml/plasmid_analysis/blob/main/perform_analysis.py\n",
        "\n",
        "https://www.youtube.com/watch?v=SAFmrTnEHLg ...python\n",
        "https://www.youtube.com/playlist?list=PLQVvvaa0QuDfKTOs3Keq_kaG2P55YRn5v ..ml models\n",
        "\n",
        "https://pathvisio.org/tutorials  ....pathway analysis and drawing software which allows drawing, editing, and analyzing biological pathways  ....https://www.mdpi.com/2076-0817/11/7/764\n",
        "####https://doi.org/10.1016/S0140-6736(21)02724-0 ...Global burden of bacterial antimicrobial resistance in 2019: a systematic analysis\n",
        "https://academic.oup.com/jac/article/73/7/1737/4921008 .....An inventory of supranational antimicrobial resistance surveillance networks involving low- and middle-income countries since 2000\n",
        "\n",
        "https://www.frontiersin.org/articles/10.3389/fmicb.2022.841289/full  ..s.aureus amr prediction models\n",
        "https://www.frontiersin.org/articles/10.3389/fmed.2021.694520/full  ...s.aureus + ml models\n",
        "https://www.frontiersin.org/articles/10.3389/fmed.2021.676343/full#h7\n",
        "https://github.com/patbaa/AMR_ciprofloxacin/tree/master/machine_learning_and_stats  \n",
        "https://www.nature.com/articles/s41598-020-71693-5#Sec4\n",
        "\n",
        "\n",
        "https://www.ncbi.nlm.nih.gov/pmc/articles/PMC8958015/  ..drug combinations\n",
        "https://www.nature.com/articles/s41540-018-0069-9#Abs1\n",
        "https://journals.plos.org/ploscompbiol/article?id=10.1371/journal.pcbi.1006774\n",
        "https://www.frontiersin.org/articles/10.3389/fgene.2020.01000/full\n",
        "https://www.ncbi.nlm.nih.gov/pmc/articles/PMC4503331/\n",
        "https://github.com/sepehrgolriz/simdrugs/blob/main/scripts_and_notebooks/durg_combination.ipynb\n",
        "https://github.com/bpucker/APPLS\n",
        "https://github.com/bpucker/PythonTUBS\n",
        "https://github.com/khuyentran1401/Efficient_Python_tricks_and_tools_for_data_scientists/blob/master/Chapter1/good_practices.ipynb\n",
        "https://github.com/deanslee/FigureOneLab/tree/main\n",
        "https://scanpy.readthedocs.io/en/stable/tutorials/basics/clustering.html\n",
        "https://anndata.readthedocs.io/en/latest/tutorials/notebooks/anndata_dask_array.html\n",
        "\n",
        "\n",
        "\n",
        "\n",
        "##Metabolic pathways predictyion and reconstruction\n",
        "https://www.frontiersin.org/articles/10.3389/fmolb.2021.634141/full\n",
        "https://www.science.org/doi/10.1126/sciadv.adc9130  .....MACHINE LEARNING ENABLES PREDICTION OF METABOLIC SYSTEM EVOLUTION IN BACTERIA\n",
        "\n",
        "https://www.sciencedirect.com/science/article/pii/S109671762030166X\n",
        "https://www.nature.com/articles/s41467-021-26792-w   ....https://github.com/dst1/MLPP\n",
        "https://www.science.org/doi/full/10.1126/sciadv.abl4747#supplementary-materials\n",
        "https://www.nature.com/articles/s41596-019-0128-8  ...pantherdb ...large-scale genome and gene function analysis with the PANTHER classification system (v.14.0)\n",
        "\n",
        "https://www.nature.com/articles/s41598-019-39866-z  ....Evolutionary constraints on the complexity of genetic regulatory networks allow predictions of the total number of genetic ...\n",
        "\n",
        "https://www.nature.com/articles/s41467-018-07436-y   Comparative expression profiling reveals widespread coordinated evolution of gene expression across eukaryotes....\n",
        "\n",
        "https://www.nature.com/articles/s41592-018-0039-6  ...GeNets: a unified web platform for network-based genomic analyses\n",
        "\n",
        "https://www.nature.com/articles/s41467-020-14743-w  ....An integrative ENCODE resource for cancer genomics\n",
        "\n",
        "@# https://www.nature.com/articles/s41588-021-00840-z  ....A genome-wide atlas of co-essential modules assigns function to uncharacterized genes  ....https://github.com/kundajelab/coessentiality\n",
        "\n",
        "@https://www.nature.com/articles/s41598-019-49098-w ....ePath: an online database towards comprehensive essential gene annotation for prokaryotes\n",
        "https://www.pubapps.vcu.edu/epath/Default.aspx\n",
        "https://www.sciencedirect.com/science/article/pii/S0141813017320615 ....Functional assignment for essential hypothetical proteins of Staphylococcus aureus N315\n",
        "https://www.sciencedirect.com/science/article/pii/S0001706X22000365 ....In silico analysis of Leishmania proteomes and protein-protein interaction network: Prioritizing therapeutic targets and drugs for repurposing to treat leishmaniasis\n",
        "https://academic.oup.com/carcin/advance-article/doi/10.1093/carcin/bgac079/6726463  ....CarcinoHPVPred: an ensemble of machine learning models for HPV carcinogenicity prediction using genomic data\n",
        "https://www.nature.com/articles/s41598-022-21109-3\n",
        " https://github.com/tanghaibao/goatools. ....https://www.nature.com/articles/s41598-018-28948-z\n",
        " https://www.nature.com/articles/s41598-021-03041-0  ....A computational pipeline for functional gene discovery\n",
        " https://www.nature.com/articles/s41467-020-14367-0#Abs1   ...Pathway and network analysis of more than 2500 whole cancer genomes\n",
        "\n",
        "http://mips.helmholtz-muenchen.de/corum/# ....The comprehensive resource of mammalian protein complexes\n",
        "https://www.nature.com/articles/s41598-021-97193-8#Abs1 ....https://github.com/suyumei/DrugDrugIntact\n",
        "\n",
        "##Disease modeling and computational medcine reviews\n",
        "https://pubmed.ncbi.nlm.nih.gov/30698665/\n",
        "\n",
        "https://www.nature.com/articles/s41540-022-00247-4\n",
        "\n",
        "https://www.mdpi.com/2075-4426/12/2/166\n",
        "\n",
        "\n",
        "https://link.springer.com/content/pdf/10.1007/s11655-021-3453-z.pdf\n",
        "\n",
        "https://etd.ohiolink.edu/apexprod/rws_etd/send_file/send?accession=case1583416431321447&disposition=inline\n",
        "#####https://www.nature.com/articles/s41467-019-09186-x   ....https://github.com/emreg00/toolbox\n",
        "\n",
        "https://www.nature.com/articles/s42003-022-04245-4 ....DrugnomeAI is an ensemble machine-learning framework for predicting druggability of candidate drug targets ...https://github.com/astrazeneca-cgr-publications/DrugnomeAI-release\n",
        "\n",
        "https://github.com/sepehrgolriz/simdrugs/tree/main/scripts_and_notebooks   ....Using predictive machine learning models for drug response simulation by calibrating patient-specific pathway signatures\n",
        "\n",
        "https://www.nature.com/articles/s41467-021-27138-2  .....Network medicine for disease module identification and drug repurposing with the NeDRex platform\n",
        "\n",
        "https://www.cell.com/trends/genetics/fulltext/S0168-9525(22)00225-6  ....Insights from multi-omics integration in complex disease...\n",
        "\n",
        "https://academic.oup.com/bib/article/22/6/bbab293/6343528\n",
        "\n",
        "https://www.sciencedirect.com/science/article/pii/S1567134821002288"
      ],
      "metadata": {
        "id": "RuScEG69nc3j"
      }
    },
    {
      "cell_type": "markdown",
      "source": [
        "https://www.bioinformaticscrashcourse.com/8_Classification_PCA.html  ....ml crash course\n",
        "\n",
        "https://github.com/danielecook/Awesome-Bioinformatics  ...bioinformatics resources\n",
        "\n",
        "https://github.com/microbiome/tutorials/blob/master/PERMANOVA.Rmd\n",
        "\n",
        "https://github.com/nextstrain/augur\n",
        "https://terra.bio/science/infectious-diseases/\n",
        "https://github.com/lucananni93/Machine-learning-experiments\n",
        "http://hvdr.bioinf.wits.ac.za/fmt/  ....The Fragment Merger Tool produces a single (merged) sequence from two to twelve overlapping input fragments. These fragments can be chromatograms (ABIF files in .ab1 format) or FASTA files\n",
        "\n",
        "https://www.giac.org/paper/gpyc/400/pdf-metadata-extraction-python/170602\n",
        "https://github.com/RaphaelHebert/nsdpy\n",
        "\n",
        "https://github.com/PATRIC3/p3_data/blob/master/parseBiosampleAMR.pl  ..patric data\n",
        "https://github.com/wanyuac/BINF_toolkit  ...fasta file convertions,modifying and data extraction scripts.\n",
        "https://github.com/transcript/BettaMetaData/blob/master/scripts/ncbi-summarize.py\n",
        "https://github.com/chrisgulvik/genomics_scripts\n",
        "https://github.com/broadinstitute/viral-phylo/blob/master/ncbi.py\n",
        "https://github.com/dewshr/NCBI-GenBank-file-parser/blob/master/NCBI_genebank_file_parser.py\n",
        "https://github.com/INCATools/biosample-analysis/blob/master/src/notebooks/analyze-harmonized-data.ipynb\n",
        "https://github.com/kblin/ncbi-genome-download\n",
        "http://biopython.org/DIST/docs/tutorial/Tutorial.html#sec138\n",
        "\n",
        "http://147.52.203.130/cgi-bin/biotextquest/textQuest.cgi ...biotextquest ..text mining\n",
        "\n",
        "https://biohpc.cornell.edu/workshops.aspx ...workshops gbioinfo and hpc\n"
      ],
      "metadata": {
        "id": "3Ua3OSD-bxOP"
      }
    },
    {
      "cell_type": "code",
      "source": [
        "#GEMs\n",
        "https://memote.io/\n",
        "https://www.ncbi.nlm.nih.gov/pmc/articles/PMC8778254/\n",
        "https://www.ncbi.nlm.nih.gov/pmc/articles/PMC7145653/\n",
        "https://www.nature.com/articles/s41587-020-0446-y\n",
        "https://www.nature.com/articles/s41467-018-06112-5\n",
        "https://wwwdev.ebi.ac.uk/biomodels/faq#browse-models  ...biomodels\n"
      ],
      "metadata": {
        "id": "REdpY_Pv5-jC"
      },
      "execution_count": null,
      "outputs": []
    },
    {
      "cell_type": "code",
      "source": [
        "#salmonella\n",
        "https://www.nature.com/articles/s41598-021-00224-7\n",
        "https://www.nature.com/articles/s41467-018-06112-5#Sec12\n",
        "https://www.ncbi.nlm.nih.gov/pmc/articles/PMC6712391/   ...like this try for kleb also"
      ],
      "metadata": {
        "id": "mSd3xPpL8XCk"
      },
      "execution_count": null,
      "outputs": []
    },
    {
      "cell_type": "markdown",
      "source": [
        "##Interseting Articles###\n",
        "\n",
        "https://peerj.com/articles/32/  ...\n",
        "--Correlations between intestinal genus-level phylogenetic groups and serum lipids....see more this kind data\n",
        "\n",
        "\n",
        "https://bmcbioinformatics.biomedcentral.com/articles/10.1186/s12859-018-2182-6   .....Deep learning models for bacteria taxonomic classification of metagenomic data\n",
        "https://www.frontiersin.org/articles/10.3389/fbioe.2020.01032/full\n",
        "https://www.frontiersin.org/articles/10.3389/fgene.2019.00214/full\n",
        "https://codata-rda-advanced-bioinformatics-2018.readthedocs.io/en/latest/3.Day3.html\n",
        "https://link.springer.com/article/10.1007/s42979-021-00592-x\n",
        "\n",
        "https://github.com/IcarPA-TBlab/nrc  \n",
        "\n",
        "https://www.nature.com/articles/nrmicro.2016.82  ..bacterial gwas\n",
        "\n",
        "https://www.nature.com/articles/s41579-023-00852-y ... staphylococcus aureus host ineractions  and adaptation\n"
      ],
      "metadata": {
        "id": "A_XPUIEjN4hy"
      }
    },
    {
      "cell_type": "code",
      "source": [
        "#fine structure\n",
        "https://web.stanford.edu/group/pritchardlab/structure.html\n",
        "https://pubmed.ncbi.nlm.nih.gov/29474601/\n",
        "http://brown.edu/Research/Ramachandran_Lab/files/pong/pong-manual.pdf\n",
        "https://pure.mpg.de/rest/items/item_2033123/component/file_2033678/content  ..recombinate regions\n",
        "Derelle et al. . doi:10.1093/molbev/msaa159\n",
        "https://www.science.org/doi/10.1126/sciadv.abe3868\n",
        "https://www.nature.com/articles/s41467-021-24448-3#code-availability\n",
        "https://www.nature.com/articles/s41467-022-35713-4#code-availability\n",
        "https://journals.asm.org/doi/10.1128/msystems.01456-21\n",
        "\n",
        "https://www.ncbi.nlm.nih.gov/pmc/articles/PMC6607905/   .....Pathway enrichment analysis and visualization of omics data using g:Profiler, GSEA, Cytoscape and EnrichmentMap\n",
        "https://www.nature.com/articles/s41467-019-13983-9#code-availability   ....Integrative pathway enrichment analysis of multivariate omics data\n",
        "https://royalsocietypublishing.org/doi/pdf/10.1098/rsob.220169  ...hgt...Reconstructing horizontal gene flow network to understand prokaryotic evolution\n",
        "https://doi.org/10.1016/j.xinn.2021.100141   .....clusterProfiler 4.0: A universal enrichment tool for interpreting omics data\n",
        "https://github.com/YuLab-SMU/clusterProfiler\n",
        "http://csbg.cnb.csic.es/BaFF/   ....Bacterial Feature Finder - Computational Systems Biology\n",
        "https://helda.helsinki.fi/bitstream/handle/10138/168628/ncomms12797.pdf?sequence=1\n",
        "https://www.hindawi.com/journals/bmri/2020/6950576/#materials-and-methods\n",
        "\n"
      ],
      "metadata": {
        "id": "5VqiCDlKy9rd"
      },
      "execution_count": null,
      "outputs": []
    },
    {
      "cell_type": "code",
      "source": [],
      "metadata": {
        "id": "amwtqb4-jnZT"
      },
      "execution_count": null,
      "outputs": []
    },
    {
      "cell_type": "markdown",
      "source": [
        "#KLEB\n",
        "\n",
        "\n",
        "https://www.nature.com/articles/s41598-022-14547-6  Common and distinctive genomic features b/w kelb clinical and enivrionmental setting + genomics\n",
        "https://www.nature.com/articles/s41598-018-28916-7  ...multiomics + kleb\n",
        "https://pubs.acs.org/doi/10.1021/acsomega.1c06633 ..#kleb co-culutre interactions ...High-Throughput Screen for Inhibitors of Klebsiella pneumoniae Virulence Using a Tetrahymena pyriformis Co-Culture Surrogate Host Model\n",
        "https://www.pnas.org/doi/10.1073/pnas.1501049112#data-availability  ..same kind for ncbi data inforamtics need to prepare ..#kholt\n",
        "https://www.biorxiv.org/content/10.1101/2020.12.14.422303v2.full #kholt\n",
        "https://journals.asm.org/doi/10.1128/mBio.00603-20\n",
        "\n",
        "https://www.nature.com/articles/s41467-020-16310-9#code-availability\n",
        "https://github.com/erolkavvas/metabolic-allele-classifiers/blob/master/cobra_model/base_model_qaqc.ipynb\n",
        "https://www.nature.com/articles/s41467-021-24448-3#code-availability\n",
        "https://www.nature.com/articles/s41429-020-00366-2\n",
        "https://www.nature.com/articles/s41598-020-71693-5#Sec4\n",
        "https://www.nature.com/articles/s41467-018-06634-y  ..mtb\n",
        "https://www.nature.com/articles/s41598-021-97882-4#Sec2\n",
        "https://github.com/SBRG/precise-db\n",
        "https://academic.oup.com/g3journal/article/9/10/3273/6026645  ...islandcafe\n",
        "https://www.nature.com/articles/s41467-018-06634-y#data-availability\n",
        "\n",
        "\n",
        "https://www.nature.com/articles/s42003-019-0545-9  ..hmm models\n",
        "https://github.com/lakinsm/meta-marc\n",
        "https://www.mdpi.com/1422-0067/21/9/3160\n",
        "\n",
        "https://www.nature.com/articles/s41598-018-28916-7  ...gene essentiality for kleb need to see. like archana pan podiuni.\n",
        "\n",
        "https://academic.oup.com/metallomics/article/11/3/696/5954245\n",
        "https://www.mdpi.com/1099-4300/21/6/603\n",
        "https://www.mdpi.com/2076-3417/12/5/2586\n",
        "https://www.intechopen.com/chapters/81918\n",
        "https://github.com/SBRG/precise-db\n",
        "https://www.nature.com/articles/s41467-022-32829-5\n",
        "https://www.nature.com/articles/s41467-020-20153-9#code-availability\n",
        "https://www.nature.com/articles/s41467-019-13483-w\n",
        "https://www.nature.com/articles/s41467-020-18134-z\n",
        "https://www.nature.com/articles/s41598-019-51812-7  ..mtb\n",
        "\n",
        "\n",
        "https://arxiv.org/pdf/2202.13496.pdf\n",
        "\n",
        "https://paperswithcode.com/datasets  ###ml datasets\n",
        "https://paperswithcode.com/methods\n",
        "\n",
        "https://www.frontiersin.org/articles/10.3389/fmicb.2016.01887/full  ..hmm,tblastn blsatp codes are there ....https://github.com/mpesesky/susceptibility-prediction\n",
        "https://www.microbiologyresearch.org/content/journal/mgen/10.1099/mgen.0.000651\n",
        "snp based subtyping ....biohensel\n",
        "\n"
      ],
      "metadata": {
        "id": "DDs6TQpede2r"
      }
    },
    {
      "cell_type": "markdown",
      "source": [
        "##python tutorials\n",
        "https://github.com/ashishpatel26/Real-time-ML-Project#biotech-seq  ...comperhensive resources  list ..\n",
        "\n",
        "https://github.com/Starignus/AppliedML_Python_Coursera\n",
        "https://github.com/Starignus/AppliedML_Python_Coursera\n",
        "\n",
        "https://github.com/src-d/awesome-machine-learning-on-source-code#machine-learning\n",
        "\n",
        "https://github.com/sharmaroshan/Data-Visualizations/blob/master/06.%20Introduction%20to%20Seaborn.ipynb  ...plots basics\n",
        "\n",
        "https://github.com/4GeeksAcademy/Interactive-Tutorials\n",
        "\n",
        "https://github.com/laibanasir/python-assignments\n",
        "\n",
        "https://github.com/mhkmcp/LaraStart\n",
        "\n",
        "https://github.com/topics/python-programming-exercises\n",
        "\n",
        "https://github.com/topics/python-practice-programs\n",
        "\n",
        "https://material.bits.vib.be/topics/python-programming/tutorials/11_modules/\n",
        "tutorial.html\n",
        "\n",
        "https://github.com/zhiwehu/Python-programming-exercises/blob/master/100%2B%20Python%20challenging%20programming%20exercises%20for%20Python%203.md\n",
        "\n",
        "https://github.com/ChawlaAvi/Daily-Dose-of-Data-Science/tree/main/Machine%20Learning"
      ],
      "metadata": {
        "id": "lVQaZOXooaJi"
      }
    },
    {
      "cell_type": "markdown",
      "source": [
        "#Interactome studies\n",
        "https://www.frontiersin.org/articles/10.3389/fcimb.2017.00128/full ...\n",
        "https://journals.asm.org/doi/10.1128/msystems.01456-21 ...\n",
        "https://www.nature.com/articles/s41467-019-11809-2 ...\n",
        "https://www.nature.com/articles/srep07187 ...\n",
        "https://elifesciences.org/articles/46615#data ...\n",
        "https://www.ncbi.nlm.nih.gov/pmc/articles/PMC4123855/ ...\n",
        "https://pubmed.ncbi.nlm.nih.gov/29307493/\n",
        "https://pubmed.ncbi.nlm.nih.gov/26320829/\n",
        "https://pubmed.ncbi.nlm.nih.gov/33380819/\n",
        "https://academic.oup.com/bioinformatics/article/21/15/3234/195577?login=true\n",
        "https://www.sciencedirect.com/science/article/pii/S0022283621001455 ...Integrating Multimeric Threading With High-throughput Experiments for Structural Interactome of Escherichia coli\n",
        "https://zhanggroup.org/Ecoli/ ...protein structure and function modeling data for the Escherichia coli genome, generated using the state of the art computational methods\n",
        "https://www.frontiersin.org/articles/10.3389/fmicb.2019.01670/full ...Structural Basis of the Subcellular Topology Landscape of Escherichia coli\n",
        "https://microbialcellfactories.biomedcentral.com/articles/10.1186/s12934-021-01565-8 ....Insights into the structure of Escherichia coli outer membrane as the target for engineering microbial cell factories\n",
        "https://journals.plos.org/plosone/article?id=10.1371/journal.pone.0056847\n",
        "https://www.frontiersin.org/articles/10.3389/fmicb.2021.613067/full\n",
        "\n",
        "https://www.ncbi.nlm.nih.gov/pmc/articles/PMC7023495/ ...mutation and recombination rates in bacteria\n",
        "\n"
      ],
      "metadata": {
        "id": "AL1F_56kLRqD"
      }
    },
    {
      "cell_type": "markdown",
      "source": [
        "#Machine learning\n",
        "https://github.com/rasbt/machine-learning-book\n",
        "https://hackr.io/tutorials/learn-machine-learning-ml?sort=upvotes&type_tags%5B%5D=1\n",
        "https://hackr.io/tutorials/learn-data-science\n",
        "https://jakevdp.github.io/PythonDataScienceHandbook/03.05-hierarchical-indexing.html\n",
        "\n",
        "\n",
        "http://aldro61.github.io/kover/doc_learning.html  ...https://journals.plos.org/ploscompbiol/article?id=10.1371/journal.pcbi.1007349 ...https://github.com/aldro61/kover\n",
        "https://github.com/zorino/RaySurveyor-Tutorial ....https://academic.oup.com/mbe/article/34/10/2716/3976054#113615208  ...https://github.com/zorino/ray\n",
        "https://github.com/data-8/textbook\n",
        "https://github.com/google/neuroglancer/blob/master/python/examples/jupyter-notebook-demo.ipynb\n",
        "\n",
        "https://github.com/tan0101/EcoliWGS-PLOSCompBiology-2022  .....https://journals.plos.org/ploscompbiol/article?id=10.1371/journal.pcbi.1010018\n",
        "https://github.com/crowegian/AMR_ML  ....Predicting Phenotypic Polymyxin Resistance in Klebsiella pneumoniae through Machine Learning Analysis of Genomic Data\n",
        "https://www.nature.com/articles/srep41329  ....Computational predictors fail to identify amino acid substitution effects at rheostat positions\n",
        "https://humgenomics.biomedcentral.com/articles/10.1186/s40246-017-0104-8  ....Variant effect prediction tools assessed using independent, functional assay-based datasets: implications for discovery and diagnosis...\n",
        "https://www.jcvi.org/research/provean\n",
        "https://www.sciencedirect.com/science/article/pii/S2001037021000994\n",
        "https://bmcgenomics.biomedcentral.com/articles/10.1186/1471-2164-15-455  ....EFIN: predicting the functional impact of nonsynonymous single nucleotide polymorphisms in human genome\n",
        "https://academic.oup.com/bib/article/22/6/bbab313/6347947   ...A genomic data resource for predicting antimicrobial resistance from laboratory-derived antimicrobial susceptibility phenotypes\n",
        "https://bmcbioinformatics.biomedcentral.com/articles/10.1186/s12859-022-04666-2#Sec8  ....Enhancing predictions of antimicrobial resistance of pathogens by expanding the potential resistance gene repertoire using a pan-genome-based feature selection approach\n",
        "https://github.com/Snitkin-Lab-Umich/ml-crkp-infection-manuscript  ....https://www.medrxiv.org/content/10.1101/2020.07.06.20147306v3.full-text\n",
        "\n",
        "https://journals.asm.org/doi/10.1128/JCM.01260-20   ....Applications of Machine Learning to the Problem of Antimicrobial Resistance: an Emerging Model for Translational Research\n",
        "https://journals.asm.org/doi/abs/10.1128/cmr.00179-21?af=R  ....Machine Learning for Antimicrobial Resistance Prediction: Current Practice, Limitations, and Clinical Perspective\n",
        "https://academic.oup.com/bioinformatics/article/38/2/325/6382301  .....Prediction of antimicrobial resistance based on whole-genome sequencing and machine learning\n",
        "https://www.nature.com/articles/s41429-021-00471-w#article-info  ....antimicrobial resistance data mining models and prediction methods study for pathogenic bacteria\n",
        "https://journals.plos.org/ploscompbiol/article?id=10.1371/journal.pcbi.1007511\n",
        "....VAMPr: VAriant Mapping and Prediction of antibiotic resistance via explainable features and machine learning\n",
        "https://git-r3lab.uni.lu/laura.denies/PathoFact/-/tree/master/scripts  ...https://microbiomejournal.biomedcentral.com/articles/10.1186/s40168-020-00993-9\n",
        "https://github.com/YunxiaoRen/ML-iAMR  ....https://academic.oup.com/bioinformatics/article/38/2/325/6382301\n",
        "\n",
        "https://www.embopress.org/doi/full/10.15252/emmm.201910264  ....Predicting antimicrobial resistance in Pseudomonas aeruginosa with machine learning-enabled molecular diagnostics\n",
        "\n",
        "https://github.com/aldro61/kover/ ....https://www.frontiersin.org/articles/10.3389/fmicb.2020.00048/full  ..svm and rule based ml prediction\n",
        "https://link.springer.com/article/10.1186/s40168-021-01002-3  ....HMD-ARG: hierarchical multi-task deep learning for annotating antibiotic resistance genes\n",
        "https://www.frontiersin.org/articles/10.3389/fmicb.2020.00048/full  .....Evaluation of Machine Learning Models for Predicting Antimicrobial Resistance of Actinobacillus pleuropneumoniae From Whole Genome Sequences\n",
        "https://github.com/SumayahR/antibiotic-resistance .....Machine Learning Leveraging Genomes from Metagenomes Identifies Influential Antibiotic Resistance Genes in the Infant Gut Microbiome  ...https://journals.asm.org/doi/full/10.1128/mSystems.00123-17\n",
        "\n",
        "https://journals.asm.org/doi/full/10.1128/JCM.01260-18  ....Using Machine Learning To Predict Antimicrobial MICs and Associated Genomic Features for Nontyphoidal Salmonella\n",
        "https://journals.asm.org/doi/full/10.1128/JCM.01405-18  .....Genome-Based Prediction of Bacterial Antibiotic Resistance\n",
        "https://journals.asm.org/doi/full/10.1128/JCM.01260-20  .....Applications of Machine Learning to the Problem of Antimicrobial Resistance: an Emerging Model for Translational Research\n",
        "https://github.com/farhat-lab/wdnn  ....https://www.sciencedirect.com/science/article/pii/S2352396419302506 .....Beyond multidrug resistance: Leveraging rare variants with machine and statistical learning models in Mycobacterium tuberculosis resistance prediction\n",
        "https://www.frontiersin.org/articles/10.3389/fgene.2019.00922/full#B5  ....four ml models compared here....ml predication\n",
        "https://www.frontiersin.org/articles/10.3389/fmicb.2020.00549/full  ....Systematic Evaluation of Whole Genome Sequence-Based Predictions of Salmonella Serotype and Antimicrobial Resistance\n",
        "https://journals.asm.org/doi/full/10.1128/mSystems.00821-19  ....Coexistence of Antibiotic Resistance Genes and Virulence Factors Deciphered by Large-Scale Complete Genome Analysis\n",
        "https://www.frontiersin.org/articles/10.3389/fgene.2019.00579/full  ......A Review and Tutorial of Machine Learning Methods for Microbiome Host Trait Prediction  ....https://sites.google.com/ncsu.edu/zhouslab/home/software?pli=1\n",
        "https://github.com/Adapsyn/prism-4-paper ....Comprehensive prediction of secondary metabolite structure and biological activity from microbial genome sequences ....https://www.nature.com/articles/s41467-020-19986-1#Abs1\n",
        "https://github.com/c2-d2/rase  ....Rapid inference of antibiotic resistance and susceptibility by genomic neighbour typing ....https://www.nature.com/articles/s41564-019-0656-6\n",
        "https://www.sciencedirect.com/science/article/pii/S2001037021000325  ...Machine learning applications in microbial ecology, human microbiome studies, and environmental monitoring ....ml tools table\n",
        "https://github.com/EbmeyerSt/GEnView/wiki  ....https://microbiomejournal.biomedcentral.com/articles/10.1186/s40168-019-0670-1\n",
        "https://journals.plos.org/ploscompbiol/article?id=10.1371/journal.pcbi.1007349   ....Evaluation of parameters affecting performance and reliability of machine learning-based antibiotic susceptibility..\n"
      ],
      "metadata": {
        "id": "jptbx_pMVmhI"
      }
    },
    {
      "cell_type": "markdown",
      "source": [
        "#ML practise github pages\n",
        "https://github.com/kanchitank/Mushroom-Classification/blob/master/Mushroom-Classification.ipynb\n",
        "https://github.com/milindsoorya\n",
        "https://www.nature.com/articles/s41597-019-0230-3 ...shell fetures\n",
        "https://www.nature.com/articles/s41598-021-87602-3 ...mushroom datasets\n",
        "https://www.scikit-yb.org/en/latest/oneliners.html#feature-analysis\n",
        "https://learn.corporatefinanceinstitute.com/my-learning-history/list?pageNumber=1&pageSize=25&sort=lastViewedAt_desc\n",
        "\n",
        "https://academic.oup.com/femsre/article/45/5/fuab015/6174022 ..ml and micorbiology\n",
        "http://mmdb.aori.u-tokyo.ac.jp/links.html ...https://academic.oup.com/bioinformatics/article/34/13/i32/5045790\n",
        "https://www.frontiersin.org/articles/10.3389/fmicb.2019.00827/full\n",
        "https://academic.oup.com/bioinformatics/article/36/6/1881/5628223\n",
        "https://www.ncbi.nlm.nih.gov/pmc/articles/PMC5969114/\n",
        "https://link.springer.com/article/10.1007/s11831-021-09639-x\n",
        "\n",
        "https://github.com/Snitkin-Lab-Umich/MICRO582-EPI582-Winter-2023  ...Genomic Epidemiology Winter 2023\n",
        "\n",
        "https://www.enjoyalgorithms.com/blog/feature-selection-techniques  ....feature selection\n",
        "https://www.enjoyalgorithms.com/blog/support-vector-machine-in-ml  ...ml basics\n",
        "https://www.frontiersin.org/articles/10.3389/fmicb.2016.01887/full\n",
        "https://academic.oup.com/bioinformatics/article/38/2/325/6382301"
      ],
      "metadata": {
        "id": "S2FJNuoaZX9s"
      }
    },
    {
      "cell_type": "markdown",
      "source": [
        "#journals for publications -to submit\n",
        "https://www.kfu.edu.sa/en/Departments/Sjournal/Pages/desc.aspx"
      ],
      "metadata": {
        "id": "kl61-0BCScS4"
      }
    },
    {
      "cell_type": "markdown",
      "source": [
        "###NGS links\n",
        "- https://www.degruyter.com/document/doi/10.1515/jib-2019-0005/html\n",
        "https://github.com/bpucker/AppliedGenomeResearch\n",
        "https://www.degruyter.com/document/doi/10.1515/jib-2023-0033/html\n"
      ],
      "metadata": {
        "id": "jX1d_YsqCaqf"
      }
    },
    {
      "cell_type": "code",
      "source": [],
      "metadata": {
        "id": "06o3zpcDCZWq"
      },
      "execution_count": null,
      "outputs": []
    }
  ]
}